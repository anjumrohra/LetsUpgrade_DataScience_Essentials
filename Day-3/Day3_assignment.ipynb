{
 "cells": [
  {
   "cell_type": "markdown",
   "metadata": {},
   "source": [
    "# Question 1\n",
    "\n",
    "Create a numpy array starting from 2 till 50 with a stepsize of 3."
   ]
  },
  {
   "cell_type": "code",
   "execution_count": 5,
   "metadata": {},
   "outputs": [
    {
     "name": "stdout",
     "output_type": "stream",
     "text": [
      "[2, 5, 8, 11, 14, 17, 20, 23, 26, 29, 32, 35, 38, 41, 44, 47, 50]\n",
      "[ 2  5  8 11 14 17 20 23 26 29 32 35 38 41 44 47 50]\n",
      "<class 'list'>\n",
      "<class 'numpy.ndarray'>\n"
     ]
    }
   ],
   "source": [
    "import numpy as np\n",
    "\n",
    "arr = [x for x in range(2,51,3)]\n",
    "print(arr)\n",
    "np_arr = np.array(arr)\n",
    "print(np_arr)\n",
    "print(type(arr))\n",
    "print(type(np_arr))"
   ]
  },
  {
   "cell_type": "markdown",
   "metadata": {},
   "source": [
    "# Question 2\n",
    "\n",
    "Accept two lists of 5 elements each from the user.\n",
    "\n",
    "Convert them to numpy arrays. Concatenate these arrays and print it. Also sort these arrays and print it."
   ]
  },
  {
   "cell_type": "code",
   "execution_count": 11,
   "metadata": {},
   "outputs": [
    {
     "name": "stdout",
     "output_type": "stream",
     "text": [
      "0\n",
      "1\n",
      "2\n",
      "3\n",
      "4\n",
      "5\n",
      "6\n",
      "7\n",
      "8\n",
      "9\n",
      "List 1 =  [0, 2, 4, 6, 8] \n",
      "List 2 =  [1, 3, 5, 7, 9]\n"
     ]
    },
    {
     "data": {
      "text/plain": [
       "array([0, 2, 4, 6, 8, 1, 3, 5, 7, 9])"
      ]
     },
     "execution_count": 11,
     "metadata": {},
     "output_type": "execute_result"
    }
   ],
   "source": [
    "import numpy as np\n",
    "n = 6\n",
    "list_a = []\n",
    "list_b = []\n",
    "for i in range(5):\n",
    "    x = int(input())\n",
    "    y = int(input()) \n",
    "    list_a.append(x)\n",
    "    list_b.append(y)\n",
    "print(\"List 1 = \",list_a,\"\\nList 2 = \",list_b)\n",
    "np_arr1 = np.array(list_a)\n",
    "np_arr2 = np.array(list_b)   \n",
    "np.concatenate((np_arr1,np_arr2), axis=None)\n"
   ]
  },
  {
   "cell_type": "markdown",
   "metadata": {},
   "source": [
    "# Question 3\n",
    "\n",
    "Write a code snippet to find the dimensions of an ndarray and its size."
   ]
  },
  {
   "cell_type": "code",
   "execution_count": 20,
   "metadata": {},
   "outputs": [
    {
     "name": "stdout",
     "output_type": "stream",
     "text": [
      "[[[ 0  1]\n",
      "  [ 2  3]\n",
      "  [ 4  5]\n",
      "  [ 6  7]\n",
      "  [ 8  9]\n",
      "  [10 11]\n",
      "  [12 13]\n",
      "  [14 15]\n",
      "  [16 17]]\n",
      "\n",
      " [[18 19]\n",
      "  [20 21]\n",
      "  [22 23]\n",
      "  [24 25]\n",
      "  [26 27]\n",
      "  [28 29]\n",
      "  [30 31]\n",
      "  [32 33]\n",
      "  [34 35]]]\n",
      "\n",
      "Dimension of the numpy array is:  3\n",
      "\n",
      "Shape of the numpy array is:  (2, 9, 2)\n"
     ]
    }
   ],
   "source": [
    "import numpy as np\n",
    "\n",
    "arr = np.arange(36).reshape(2,9,2)\n",
    "print(arr)\n",
    "print()\n",
    "print(\"Dimension of the numpy array is: \", str(arr.ndim))\n",
    "print()\n",
    "print(\"Shape of the numpy array is: \", str(arr.shape))"
   ]
  },
  {
   "cell_type": "markdown",
   "metadata": {},
   "source": [
    "# Question 4\n",
    "\n",
    "How to convert a 1D array into a 2D array? Demonstrate with the help of a code.\n",
    "\n",
    "Hint: np.newaxis, np.expand_dims"
   ]
  },
  {
   "cell_type": "code",
   "execution_count": 31,
   "metadata": {},
   "outputs": [
    {
     "name": "stdout",
     "output_type": "stream",
     "text": [
      "[0 1 2 3 4 5 6 7]\n",
      "Shape of above array is:  (8,)\n",
      "\n",
      "[[0]\n",
      " [1]\n",
      " [2]\n",
      " [3]\n",
      " [4]\n",
      " [5]\n",
      " [6]\n",
      " [7]]\n",
      "Shape of above array is:  (8, 1)\n"
     ]
    }
   ],
   "source": [
    "import numpy as np\n",
    "\n",
    "#consider a 1D array\n",
    "arr1D = np.arange(8)\n",
    "print(arr1D)\n",
    "print(\"Shape of above array is: \",arr1D.shape)\n",
    "print()\n",
    "# np.newaxis increases the dimension of an array by 1. Here, 1D array will be converted to a 2D array\n",
    "arr2D = arr1D[:,np.newaxis]\n",
    "# this is equivalent to np.expand_dims(arr1D,axis=1)\n",
    "# Here, the dimension changes from 1 to 2. The shape of the array becomes (8,1)\n",
    "print(arr2D)\n",
    "print(\"Shape of above array is: \", arr2D.shape)"
   ]
  },
  {
   "cell_type": "markdown",
   "metadata": {},
   "source": [
    "# Question 5\n",
    "\n",
    "Consider two square numpy. Stack them vertically and horizontally.\n",
    "\n",
    "Hint: Use vstack(), hstack()"
   ]
  },
  {
   "cell_type": "code",
   "execution_count": 55,
   "metadata": {},
   "outputs": [
    {
     "name": "stdout",
     "output_type": "stream",
     "text": [
      "Matrix 1  \n",
      " [[1 2]\n",
      " [2 1]]\n",
      "\n",
      "Matrix 2  \n",
      " [[0 1]\n",
      " [2 3]]\n",
      "\n",
      "Vertical Stack  \n",
      " [[1 2]\n",
      " [2 1]\n",
      " [0 1]\n",
      " [2 3]]\n",
      "\n",
      "Horizontal Stack  \n",
      " [[1 2 0 1]\n",
      " [2 1 2 3]]\n"
     ]
    }
   ],
   "source": [
    "import numpy as np\n",
    "np1 = np.matrix([[1,2],[2,1]])\n",
    "print(\"Matrix 1  \\n\", np1)\n",
    "print()\n",
    "np2 = np.arange(4).reshape(2,2)\n",
    "print(\"Matrix 2  \\n\", np2)\n",
    "print()\n",
    "print(\"Vertical Stack  \\n\", np.vstack((np1,np2)))\n",
    "print()\n",
    "print(\"Horizontal Stack  \\n\", np.hstack((np1,np2)))"
   ]
  },
  {
   "cell_type": "markdown",
   "metadata": {},
   "source": [
    "# Question 6\n",
    "\n",
    "How to get unique items and counts of unique items?"
   ]
  },
  {
   "cell_type": "raw",
   "metadata": {},
   "source": [
    "Consider a 1D Numpy Array. The unique elements with their frequency of occurance can be returned as follows:"
   ]
  },
  {
   "cell_type": "code",
   "execution_count": 66,
   "metadata": {},
   "outputs": [
    {
     "name": "stdout",
     "output_type": "stream",
     "text": [
      "[1 2 3 1 5 2 4 5 6 4 3 6 7 6 8 8 2 6 8 9]\n",
      "[1 2 3 4 5 6 7 8 9]\n",
      "[2 3 2 2 2 4 1 3 1]\n",
      "The unique elements [1 2 3 4 5 6 7 8 9] occur with the count [2 3 2 2 2 4 1 3 1] respectively\n"
     ]
    }
   ],
   "source": [
    "import numpy as np\n",
    "\n",
    "a = np.array([1,2,3,1,5,2,4,5,6,4,3,6,7,6,8,8,2,6,8,9])\n",
    "print(a)\n",
    "u = np.unique(a) #returns unique elements from the given numpy array\n",
    "print(u)\n",
    "p,counts = np.unique(a,return_counts=True) #returns the count of each unique element\n",
    "p\n",
    "print(counts)\n",
    "print(\"The unique elements\",p,\"occur with the count\",counts, \"respectively\")"
   ]
  }
 ],
 "metadata": {
  "kernelspec": {
   "display_name": "Python 3",
   "language": "python",
   "name": "python3"
  },
  "language_info": {
   "codemirror_mode": {
    "name": "ipython",
    "version": 3
   },
   "file_extension": ".py",
   "mimetype": "text/x-python",
   "name": "python",
   "nbconvert_exporter": "python",
   "pygments_lexer": "ipython3",
   "version": "3.8.3"
  }
 },
 "nbformat": 4,
 "nbformat_minor": 4
}
