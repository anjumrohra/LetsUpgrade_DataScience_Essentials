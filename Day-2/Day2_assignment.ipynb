{
 "cells": [
  {
   "cell_type": "markdown",
   "metadata": {},
   "source": [
    "# Question 1\n",
    "\n",
    "Create an empty list. Accept 10 numbers from the user and append it to the list if it is an even number."
   ]
  },
  {
   "cell_type": "code",
   "execution_count": 1,
   "metadata": {},
   "outputs": [
    {
     "name": "stdout",
     "output_type": "stream",
     "text": [
      "2\n",
      "3\n",
      "7\n",
      "18\n",
      "12\n",
      "13\n",
      "15\n",
      "17\n",
      "16\n",
      "8\n",
      "[2, 18, 12, 16, 8]\n"
     ]
    }
   ],
   "source": [
    "List = []\n",
    "for i in range(10):\n",
    "    x = int(input())\n",
    "    if x%2==0:\n",
    "        List.append(x)\n",
    "print(List)"
   ]
  },
  {
   "cell_type": "markdown",
   "metadata": {},
   "source": [
    "# Question 2\n",
    "\n",
    "List Comprehension definition with an example"
   ]
  },
  {
   "cell_type": "raw",
   "metadata": {},
   "source": [
    "Definition: \n",
    "List Comprehensions are useful in creating using new list using iterables. List comprehensions consist of square brackets containing the expression, which is executed for each element along with the for loop to iterate over each element."
   ]
  },
  {
   "cell_type": "code",
   "execution_count": 1,
   "metadata": {},
   "outputs": [
    {
     "name": "stdout",
     "output_type": "stream",
     "text": [
      "[1, 16, 36, 64, 9, 25, 81, 100, 400, 676, 900, 1600]\n"
     ]
    }
   ],
   "source": [
    "#Example of List Comprehension to return square of numbers in the list\n",
    "\n",
    "numbers = [1,4,6,8,3,5,9,10,20,26,30,40]\n",
    "\n",
    "squares = [n**2 for n in numbers]\n",
    "print(squares)"
   ]
  },
  {
   "cell_type": "raw",
   "metadata": {},
   "source": [
    "As seen in the example above, the list \"numbers\" consists of natural numbers that are to be squared. The list \"squares\" represents a List Comprehension in which the variable 'n' represents each number in the \"numbers\" list and a for loop is used to iterate over each element in the \"numbers\" list. Thus, the final output is the square of each element as shown above."
   ]
  },
  {
   "cell_type": "markdown",
   "metadata": {},
   "source": [
    "# Question 3\n",
    "\n",
    "You have seen in the videos how powerful dictionary data structure is.\n",
    "\n",
    "In this assignment, given a number n, you have to write a program that generates a dictionary d which\n",
    "contains (i, i*i), where i is from 1 to n (both included).\n",
    "Then you have to just print this dictionary d.\n",
    "\n",
    "Example:\n",
    "\n",
    "Input: 4\n",
    "\n",
    "will give output as\n",
    "{1: 1, 2: 4, 3: 9, 4: 16}\n",
    "\n",
    "1. Input Format:\n",
    "Take the number n in a single line.\n",
    "\n",
    "2. Output Format:\n",
    "Print the dictionary d in a single line."
   ]
  },
  {
   "cell_type": "code",
   "execution_count": 5,
   "metadata": {},
   "outputs": [
    {
     "name": "stdout",
     "output_type": "stream",
     "text": [
      "8\n",
      "{1: 1, 2: 4, 3: 9, 4: 16, 5: 25, 6: 36, 7: 49, 8: 64}\n"
     ]
    }
   ],
   "source": [
    "n = int(input())\n",
    "d = {}\n",
    "for i in range(1,n+1):\n",
    "    d.update({i:i**2})\n",
    "print(d)"
   ]
  },
  {
   "cell_type": "markdown",
   "metadata": {},
   "source": [
    "# Question 4\n",
    "\n",
    "There is a robot which wants to go to the charging point to charge itself.\n",
    "\n",
    "The robot moves in a 2-D plane from the original point (0,0). The robot can\n",
    "move UP, DOWN, LEFT and RIGHT with given steps.\n",
    "\n",
    "The trace of robot movement is shown as the following:\n",
    "\n",
    "UP 5\n",
    "\n",
    "DOWN 3\n",
    "\n",
    "LEFT 3\n",
    "\n",
    "RIGHT 2\n",
    "\n",
    "Then, the output of the program should be:\n",
    "\n",
    "2\n",
    "\n",
    "The numbers after the direction are steps.\n",
    "\n",
    "Write a program to compute the distance between the current position after\n",
    "a sequence of movement and original point. If the distance is a float, then\n",
    "just print the nearest integer (use round() function for that and then convert\n",
    "it into an integer).\n",
    "\n",
    "1. Input Format:\n",
    "The first line of the input contains a number n which implies the number of\n",
    "directions to be given.\n",
    "The next n lines contain the direction and the step separated by a space.\n",
    "\n",
    "\n",
    "2. Output Format:\n",
    "Print the distance from the original position to the current position.\n",
    "\n",
    "Example:\n",
    "\n",
    "Input:\n",
    "\n",
    "4\n",
    "\n",
    "UP 5\n",
    "\n",
    "DOWN 3\n",
    "\n",
    "LEFT 3\n",
    "\n",
    "RIGHT 2\n",
    "\n",
    "Output:\n",
    "\n",
    "2"
   ]
  },
  {
   "cell_type": "code",
   "execution_count": 4,
   "metadata": {},
   "outputs": [
    {
     "name": "stdout",
     "output_type": "stream",
     "text": [
      "4\n",
      "up 4\n",
      "down 2\n",
      "left 5\n",
      "right 3\n",
      "x =  -2 y =  2\n",
      "3\n"
     ]
    }
   ],
   "source": [
    "x=0\n",
    "y=0\n",
    "n = int(input())\n",
    "\n",
    "for i in range(n):\n",
    "    direction = input().split(' ')  \n",
    "    \n",
    "    if direction[0].upper() == \"UP\":\n",
    "        y += int(direction[1])\n",
    "    elif direction[0].upper() == \"RIGHT\":\n",
    "        x += int(direction[1])\n",
    "    elif direction[0].upper() == \"DOWN\":\n",
    "        y -= int(direction[1])\n",
    "    elif direction[0].upper() == \"LEFT\":\n",
    "        x -= int(direction[1])\n",
    "    else:\n",
    "        print(\"Invalid input\")\n",
    "print(\"x = \",x,\"y = \",y)       \n",
    "position = float((x**2+y**2)**0.5)\n",
    "print(round(position))\n",
    "    \n",
    "     "
   ]
  }
 ],
 "metadata": {
  "kernelspec": {
   "display_name": "Python 3",
   "language": "python",
   "name": "python3"
  },
  "language_info": {
   "codemirror_mode": {
    "name": "ipython",
    "version": 3
   },
   "file_extension": ".py",
   "mimetype": "text/x-python",
   "name": "python",
   "nbconvert_exporter": "python",
   "pygments_lexer": "ipython3",
   "version": "3.8.3"
  }
 },
 "nbformat": 4,
 "nbformat_minor": 4
}
